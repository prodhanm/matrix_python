{
 "cells": [
  {
   "cell_type": "code",
   "execution_count": 1,
   "id": "337ed737",
   "metadata": {},
   "outputs": [
    {
     "name": "stdout",
     "output_type": "stream",
     "text": [
      "[['-', ' ', '-'], [' ', '-', ' '], ['-', ' ', '-']]\n"
     ]
    }
   ],
   "source": [
    "the_letter = [\n",
    "    [\"-\", \" \", \"-\"],\n",
    "    [\" \", \"-\", \" \"],\n",
    "    [\"-\", \" \", \"-\"]\n",
    "]\n",
    "\n",
    "print(the_letter)"
   ]
  },
  {
   "cell_type": "code",
   "execution_count": 9,
   "id": "1f4f9418",
   "metadata": {},
   "outputs": [],
   "source": [
    "for let in the_letter:\n",
    "    if let in the_letter == \"-\":\n",
    "        print(\"/\", end=\"\")"
   ]
  },
  {
   "cell_type": "code",
   "execution_count": null,
   "id": "727a334a",
   "metadata": {},
   "outputs": [],
   "source": []
  },
  {
   "cell_type": "code",
   "execution_count": null,
   "id": "61bde229",
   "metadata": {},
   "outputs": [],
   "source": []
  },
  {
   "cell_type": "code",
   "execution_count": null,
   "id": "b8864548",
   "metadata": {},
   "outputs": [],
   "source": []
  }
 ],
 "metadata": {
  "kernelspec": {
   "display_name": "Python 3 (ipykernel)",
   "language": "python",
   "name": "python3"
  },
  "language_info": {
   "codemirror_mode": {
    "name": "ipython",
    "version": 3
   },
   "file_extension": ".py",
   "mimetype": "text/x-python",
   "name": "python",
   "nbconvert_exporter": "python",
   "pygments_lexer": "ipython3",
   "version": "3.11.1"
  }
 },
 "nbformat": 4,
 "nbformat_minor": 5
}
